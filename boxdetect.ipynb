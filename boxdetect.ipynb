{
  "nbformat": 4,
  "nbformat_minor": 0,
  "metadata": {
    "colab": {
      "name": "boxdetect.ipynb",
      "provenance": [],
      "authorship_tag": "ABX9TyPhPICrlRovuXMzD58G9Nt/",
      "include_colab_link": true
    },
    "kernelspec": {
      "name": "python3",
      "display_name": "Python 3"
    }
  },
  "cells": [
    {
      "cell_type": "markdown",
      "metadata": {
        "id": "view-in-github",
        "colab_type": "text"
      },
      "source": [
        "<a href=\"https://colab.research.google.com/github/sadikinisaac/box/blob/master/boxdetect.ipynb\" target=\"_parent\"><img src=\"https://colab.research.google.com/assets/colab-badge.svg\" alt=\"Open In Colab\"/></a>"
      ]
    },
    {
      "cell_type": "code",
      "metadata": {
        "id": "Oa3v65MiM9QT",
        "colab_type": "code",
        "colab": {}
      },
      "source": [
        "from IPython.display import Latex\n",
        "import numpy as np\n",
        "from PIL import Image\n",
        "from PIL import ImageDraw\n",
        "# import matplotlib\n",
        "# matplotlib.use(\"Agg\")\n",
        "from matplotlib import pyplot as plt\n",
        "# import matplotlib.animation as manimation"
      ],
      "execution_count": 0,
      "outputs": []
    },
    {
      "cell_type": "code",
      "metadata": {
        "id": "xjTUWwHGNAWl",
        "colab_type": "code",
        "colab": {}
      },
      "source": [
        "K = np.array([[600., 0., 300.],\n",
        "              [0., 600., 200.],\n",
        "              [0.,   0., 1.]])\n",
        "\n",
        "cam_xyz = np.array([[0, -1., 1.5]]).T"
      ],
      "execution_count": 0,
      "outputs": []
    },
    {
      "cell_type": "code",
      "metadata": {
        "id": "xiL5FtIPNEge",
        "colab_type": "code",
        "colab": {}
      },
      "source": [
        "def get_zxz(a, b, g):\n",
        "    \"\"\"returns rotation matrix according to ZXZ euler schema\n",
        "    \"\"\"\n",
        "    c1, s1 = np.cos(a), np.sin(a)\n",
        "    c2, s2 = np.cos(b), np.sin(b)\n",
        "    c3, s3 = np.cos(g), np.sin(g)\n",
        "\n",
        "    return np.array([\n",
        "        [c1*c3-c2*s1*s3,-c1*s3-c2*c3*s1, s1*s2],\n",
        "        [c3*s1+c1*c2*s3, c1*c2*c3-s1*s3,-c1*s2],\n",
        "        [s2*s3,          c3*s2,          c2]\n",
        "        ])"
      ],
      "execution_count": 0,
      "outputs": []
    },
    {
      "cell_type": "code",
      "metadata": {
        "id": "ZWztzf5BNGGA",
        "colab_type": "code",
        "colab": {}
      },
      "source": [
        "R = get_zxz(0, -np.pi/2 -np.pi/3, 0)\n",
        "T = -R.T.dot(cam_xyz)\n",
        "RT = np.hstack([ R.transpose(), T])\n",
        "RT\n",
        "M = K.dot(RT)"
      ],
      "execution_count": 0,
      "outputs": []
    },
    {
      "cell_type": "code",
      "metadata": {
        "id": "7B_AoDgMNHTg",
        "colab_type": "code",
        "colab": {
          "base_uri": "https://localhost:8080/",
          "height": 34
        },
        "outputId": "bc52e68d-0142-46f0-a164-b2e371226f91"
      },
      "source": [
        "X,Y,Z = (0, 0, 0)\n",
        "u,v,w = M.dot(np.array([X, Y, Z, 1]))\n",
        "u/w, v/w"
      ],
      "execution_count": 5,
      "outputs": [
        {
          "output_type": "execute_result",
          "data": {
            "text/plain": [
              "(300.0, 161.30418691466295)"
            ]
          },
          "metadata": {
            "tags": []
          },
          "execution_count": 5
        }
      ]
    },
    {
      "cell_type": "code",
      "metadata": {
        "id": "--u9oJ6cNIu6",
        "colab_type": "code",
        "colab": {}
      },
      "source": [
        "def rotate(p, angle):\n",
        "    c, s = np.cos(angle), np.sin(angle)\n",
        "    return np.array([ [c,-s, 0],\n",
        "                      [s, c, 0],\n",
        "                      [0, 0, 1]]).dot(p)"
      ],
      "execution_count": 0,
      "outputs": []
    },
    {
      "cell_type": "code",
      "metadata": {
        "id": "qTY4bKucNKQK",
        "colab_type": "code",
        "colab": {}
      },
      "source": [
        "Dims = [np.array([0.6, 0.4, 0.3]), \n",
        "        np.array([0.4, 0.4, 0.35]), \n",
        "        np.array([0.4, 0.3, 0.2])]"
      ],
      "execution_count": 0,
      "outputs": []
    },
    {
      "cell_type": "code",
      "metadata": {
        "id": "_LiCwduBNLnA",
        "colab_type": "code",
        "colab": {}
      },
      "source": [
        "def poly_list(x, y, a, ix):\n",
        "    dx, dy, z = Dims[int(ix)] / 2\n",
        "    top = [ np.array([-dx,-dy, 2*z]),\n",
        "            np.array([ dx,-dy, 2*z]),\n",
        "            np.array([ dx, dy, 2*z]),\n",
        "            np.array([-dx, dy, 2*z]) ]\n",
        "    top = [ rotate(p, a) for p in top ]\n",
        "    t = np.array([x, y, 0])\n",
        "    top = [p + t for p in top]\n",
        "    Ls = [top]\n",
        "    for i in range(4):\n",
        "        Ls.append([top[i], top[i-1], top[i-1]-np.array([0,0,2*z]), top[i]-np.array([0,0,2*z])])\n",
        "    return Ls"
      ],
      "execution_count": 0,
      "outputs": []
    },
    {
      "cell_type": "code",
      "metadata": {
        "id": "xZnGcWR9NNDW",
        "colab_type": "code",
        "colab": {}
      },
      "source": [
        "# generating image\n",
        "def gen_img(dx, dy, a, ix):\n",
        "    polygons = [[ M.dot(np.array([x,y,z,1])) for x,y,z in poly] for poly in poly_list(dx, dy, a, ix)]\n",
        "    pix = [[(u/w, v/w) for u,v,w in poly] for poly in polygons]\n",
        "    \n",
        "    im = Image.new('L', (600,400), 0)\n",
        "    draw = ImageDraw.Draw(im)\n",
        "    [draw.polygon(shape,fill=255) for shape in pix]\n",
        "    \n",
        "    return im"
      ],
      "execution_count": 0,
      "outputs": []
    },
    {
      "cell_type": "code",
      "metadata": {
        "id": "qpD182e1NOem",
        "colab_type": "code",
        "colab": {
          "base_uri": "https://localhost:8080/",
          "height": 417
        },
        "outputId": "cac9522a-d18d-4d85-97c4-c4e0bc2ca413"
      },
      "source": [
        "BoxType = 2\n",
        "Angle = 0.4\n",
        "X = 0.1\n",
        "Y = -0.1\n",
        "cam_shot = gen_img(X,Y,Angle,BoxType)\n",
        "cam_shot"
      ],
      "execution_count": 10,
      "outputs": [
        {
          "output_type": "execute_result",
          "data": {
            "image/png": "[encoded data removed]",
            "text/plain": [
              "<PIL.Image.Image image mode=L size=600x400 at 0x7F4E35C529B0>"
            ]
          },
          "metadata": {
            "tags": []
          },
          "execution_count": 10
        }
      ]
    },
    {
      "cell_type": "code",
      "metadata": {
        "id": "EOvIgSxjNP10",
        "colab_type": "code",
        "colab": {}
      },
      "source": [
        "CAM_ARR = (np.array(cam_shot) > 100)\n",
        "WEIGHT = CAM_ARR.sum()\n",
        "\n",
        "def loss(gen_im):\n",
        "    return (np.logical_xor(CAM_ARR, (np.array(gen_im, dtype='uint8') > 100)).astype('int')).sum()"
      ],
      "execution_count": 0,
      "outputs": []
    },
    {
      "cell_type": "code",
      "metadata": {
        "id": "BkKciNKHNSn9",
        "colab_type": "code",
        "colab": {
          "base_uri": "https://localhost:8080/",
          "height": 286
        },
        "outputId": "f5db98e2-0934-4ff5-dd41-cf0fdb1d0de6"
      },
      "source": [
        "init = np.array([np.random.normal(scale=0.1), \n",
        "                 np.random.normal(scale=0.1), \n",
        "                 np.random.uniform(-np.pi/2, np.pi/2),\n",
        "                 np.random.choice(len(Dims))])\n",
        "val = loss(gen_img(*init))\n",
        "print (\"%i pixels do not match\" % val)\n",
        "plt.figure(figsize=(6,4))\n",
        "plt.imshow(np.logical_xor(CAM_ARR, (np.array(gen_img(*init),dtype='uint8')>100)).astype('int'))\n",
        "plt.show()"
      ],
      "execution_count": 13,
      "outputs": [
        {
          "output_type": "stream",
          "text": [
            "11601 pixels do not match\n"
          ],
          "name": "stdout"
        },
        {
          "output_type": "display_data",
          "data": {
            "image/png": "[encoded data removed]",
            "text/plain": [
              "<Figure size 432x288 with 1 Axes>"
            ]
          },
          "metadata": {
            "tags": []
          }
        }
      ]
    },
    {
      "cell_type": "code",
      "metadata": {
        "id": "4EBc7eVINT1f",
        "colab_type": "code",
        "colab": {}
      },
      "source": [
        "def accepted(New, Old):\n",
        "    v = -(New - Old)/Old * 30\n",
        "    if v >= 0: return True\n",
        "    return np.exp(v) > np.random.random()"
      ],
      "execution_count": 0,
      "outputs": []
    },
    {
      "cell_type": "code",
      "metadata": {
        "id": "9Oy6Mnv0Ng4j",
        "colab_type": "code",
        "colab": {
          "base_uri": "https://localhost:8080/",
          "height": 34
        },
        "outputId": "a9e09bb2-df9c-4278-e380-e2958e1fbe4f"
      },
      "source": [
        "curr = init.copy()\n",
        "curr_val = val.copy()\n",
        "history = [(val, curr)]\n",
        "rejected = 0\n",
        "i = 0\n",
        "while curr_val > 50 and i < 1000:\n",
        "    i += 1\n",
        "    dx, dy, da = np.random.normal(scale=(0.005, 0.005, 0.1), size=3)\n",
        "    dix = np.random.choice([-1,0,1], p=[0.1, 0.8, 0.1])\n",
        "    new = curr + np.array([dx, dy, da, dix])\n",
        "    if new[3] >= len(Dims): new[3] = len(Dims) - 1\n",
        "    elif new[3] < 0: new[3] = 0\n",
        "        \n",
        "    if abs(new[0]) > 0.3 or abs(new[1]) > 0.2 or rejected > 20:\n",
        "        curr = np.array([np.random.normal(scale=0.1), \n",
        "                         np.random.normal(scale=0.1), \n",
        "                         np.random.uniform(-np.pi/2, np.pi/2),\n",
        "                         np.random.choice(len(Dims))\n",
        "                        ])\n",
        "        curr_val = loss(gen_img(*curr))\n",
        "        rejected = 0\n",
        "        continue\n",
        "    new_val = loss(gen_img(*new))\n",
        "    \n",
        "    if accepted(new_val, curr_val):\n",
        "        curr_val = new_val\n",
        "        curr = new.copy()\n",
        "        history.append((curr_val, curr.copy()))\n",
        "        rejected = 0\n",
        "    else:\n",
        "        rejected += 1\n",
        "print (\"%i iteration done\" % i,)"
      ],
      "execution_count": 16,
      "outputs": [
        {
          "output_type": "stream",
          "text": [
            "1000 iteration done\n"
          ],
          "name": "stdout"
        }
      ]
    },
    {
      "cell_type": "code",
      "metadata": {
        "id": "pkeycLH_NimE",
        "colab_type": "code",
        "colab": {
          "base_uri": "https://localhost:8080/",
          "height": 34
        },
        "outputId": "54bda08c-23e4-44ed-c0d8-221d7182a484"
      },
      "source": [
        "v, best = min(history, key=lambda x: x[0])\n",
        "print (\"Image match: %.1f%%\" % ((100*(1-float(v)/WEIGHT))))"
      ],
      "execution_count": 18,
      "outputs": [
        {
          "output_type": "stream",
          "text": [
            "Image match: 98.6%\n"
          ],
          "name": "stdout"
        }
      ]
    },
    {
      "cell_type": "code",
      "metadata": {
        "id": "ii6Ssb-uNnPi",
        "colab_type": "code",
        "colab": {
          "base_uri": "https://localhost:8080/",
          "height": 34
        },
        "outputId": "481bc1d4-1686-4a5b-eee3-e85157a7cc0a"
      },
      "source": [
        "best"
      ],
      "execution_count": 19,
      "outputs": [
        {
          "output_type": "execute_result",
          "data": {
            "text/plain": [
              "array([ 0.09782641, -0.09946317, -2.74234301,  2.        ])"
            ]
          },
          "metadata": {
            "tags": []
          },
          "execution_count": 19
        }
      ]
    },
    {
      "cell_type": "code",
      "metadata": {
        "id": "l60c62MnNq02",
        "colab_type": "code",
        "colab": {
          "base_uri": "https://localhost:8080/",
          "height": 374
        },
        "outputId": "0353ff56-4717-43c9-b093-f40a80a0e0e3"
      },
      "source": [
        "vals,_ = zip(*history)\n",
        "plt.figure(figsize=(8,6))\n",
        "plt.plot(vals)\n",
        "plt.plot([0,len(history)+2],[0,0], '--k')\n",
        "plt.show()"
      ],
      "execution_count": 20,
      "outputs": [
        {
          "output_type": "display_data",
          "data": {
            "image/png": "[encoded data removed]",
            "text/plain": [
              "<Figure size 576x432 with 1 Axes>"
            ]
          },
          "metadata": {
            "tags": []
          }
        }
      ]
    },
    {
      "cell_type": "code",
      "metadata": {
        "id": "Sv4Z6XWvNsQG",
        "colab_type": "code",
        "colab": {
          "base_uri": "https://localhost:8080/",
          "height": 195
        },
        "outputId": "660e9848-fb7f-446c-c8e8-e57e25101c9f"
      },
      "source": [
        "plt.figure(figsize=(12,4))\n",
        "ax1 = plt.subplot(1,3,1)\n",
        "plt.imshow(gen_img(*best))\n",
        "ax1.title.set_text(\"Learned\")\n",
        "\n",
        "ax2 = plt.subplot(1,3,2)\n",
        "plt.imshow(cam_shot)\n",
        "ax2.title.set_text(\"Original\")\n",
        "\n",
        "ax3 = plt.subplot(1,3,3)\n",
        "plt.imshow((CAM_ARR - np.array(gen_img(*best))).astype('int8'))\n",
        "plt.imshow(np.logical_xor(CAM_ARR, (np.array(gen_img(*best),\n",
        "                        dtype='uint8')>100)).astype('float'))\n",
        "ax3.title.set_text(\"Error\")"
      ],
      "execution_count": 21,
      "outputs": [
        {
          "output_type": "display_data",
          "data": {
            "image/png": "[encoded data removed]",
            "text/plain": [
              "<Figure size 864x288 with 3 Axes>"
            ]
          },
          "metadata": {
            "tags": []
          }
        }
      ]
    },
    {
      "cell_type": "code",
      "metadata": {
        "id": "gtCNKIYGNuEg",
        "colab_type": "code",
        "colab": {
          "base_uri": "https://localhost:8080/",
          "height": 85
        },
        "outputId": "769d635b-f17b-438a-9c6d-e2223bdbf375"
      },
      "source": [
        "plt.show()\n",
        "\n",
        "error = best - np.array([X,Y,Angle,BoxType])\n",
        "print (\"\\nXY error:   %i x %i mm\" % tuple(error[:2]*1000))\n",
        "print (\"Angle error: %.1f degrees\" % np.degrees(error[2]))\n",
        "print (\"Box type:    %s\" % (\"correct\" if error[3]==0 else \"incorrect\"))"
      ],
      "execution_count": 23,
      "outputs": [
        {
          "output_type": "stream",
          "text": [
            "\n",
            "XY error:   -2 x 0 mm\n",
            "Angle error: -180.0 degrees\n",
            "Box type:    correct\n"
          ],
          "name": "stdout"
        }
      ]
    }
  ]
}